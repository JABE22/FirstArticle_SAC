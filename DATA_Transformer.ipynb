{
 "cells": [
  {
   "attachments": {},
   "cell_type": "markdown",
   "metadata": {},
   "source": [
    "### This file transforms processed sport activity data to be stored into data.world\n",
    "\n",
    "* https://www.data.world/jamasoftwares?entryTypeLabel=dataset&tab=resources\n",
    "* This transformer can be used as a helper tool to transfer 3D data to 2D by splitting features to a separate files\n",
    "* Required data format are csv and pkl (numpy format)."
   ]
  },
  {
   "attachments": {},
   "cell_type": "markdown",
   "metadata": {},
   "source": [
    "#### Download data"
   ]
  },
  {
   "cell_type": "code",
   "execution_count": 4,
   "metadata": {},
   "outputs": [],
   "source": [
    "import pickle as cPickle\n",
    "import pandas as pd"
   ]
  },
  {
   "cell_type": "code",
   "execution_count": 24,
   "metadata": {},
   "outputs": [],
   "source": [
    "SEQ_SEGMENTED = cPickle.load( open( \"DATA/data_arrays/seq_segmented.pkl\", \"rb\" ) )\n",
    "SEQ_SEGMENTED_LABELS = pd.read_csv(\"DATA/data_arrays/seq_segmented_labels.csv\")"
   ]
  },
  {
   "cell_type": "code",
   "execution_count": 25,
   "metadata": {},
   "outputs": [
    {
     "data": {
      "text/plain": [
       "array([[[117.        ,   7.15700006, 134.80000305],\n",
       "        [118.        ,   6.81099987, 134.80000305],\n",
       "        [119.        ,   6.44799995, 134.80000305],\n",
       "        ...,\n",
       "        [ 98.        ,   8.6590004 , 106.80000305],\n",
       "        [101.        ,   8.76200008, 107.        ],\n",
       "        [100.        ,   8.64999962, 107.19999695]],\n",
       "\n",
       "       [[101.        ,   8.05200005, 107.40000153],\n",
       "        [ 99.        ,   7.89400005, 107.59999847],\n",
       "        [104.        ,   7.85599995, 107.59999847],\n",
       "        ...,\n",
       "        [ 94.        ,   6.63399982, 124.19999695],\n",
       "        [ 98.        ,   6.76499987, 124.40000153],\n",
       "        [104.        ,   6.64300013, 124.80000305]],\n",
       "\n",
       "       [[102.        ,   7.0170002 , 125.        ],\n",
       "        [105.        ,   7.17500019, 125.        ],\n",
       "        [102.        ,   6.89499998, 125.19999695],\n",
       "        ...,\n",
       "        [ 99.        ,   4.66499996, 127.19999695],\n",
       "        [102.        ,   4.80499983, 127.19999695],\n",
       "        [105.        ,   5.07600021, 127.        ]],\n",
       "\n",
       "       ...,\n",
       "\n",
       "       [[138.        ,   3.12599993, 282.3999939 ],\n",
       "        [138.        ,   3.12599993, 282.6000061 ],\n",
       "        [139.        ,   3.12599993, 282.3999939 ],\n",
       "        ...,\n",
       "        [150.        ,   3.51799989, 282.79998779],\n",
       "        [150.        ,   3.5079999 , 282.79998779],\n",
       "        [150.        ,   3.49900007, 282.79998779]],\n",
       "\n",
       "       [[151.        ,   3.48000002, 282.6000061 ],\n",
       "        [150.        ,   3.47099996, 282.6000061 ],\n",
       "        [151.        ,   3.4519999 , 282.79998779],\n",
       "        ...,\n",
       "        [153.        ,   3.23799992, 284.        ],\n",
       "        [153.        ,   3.22799993, 284.20001221],\n",
       "        [153.        ,   3.22799993, 284.20001221]],\n",
       "\n",
       "       [[152.        ,   3.2190001 , 284.20001221],\n",
       "        [153.        ,   3.21000004, 284.3999939 ],\n",
       "        [153.        ,   3.20000005, 284.6000061 ],\n",
       "        ...,\n",
       "        [118.        ,   2.36100006, 287.        ],\n",
       "        [118.        ,   2.33299994, 287.        ],\n",
       "        [117.        ,   2.31399989, 287.20001221]]])"
      ]
     },
     "execution_count": 25,
     "metadata": {},
     "output_type": "execute_result"
    }
   ],
   "source": [
    "SEQ_SEGMENTED"
   ]
  },
  {
   "cell_type": "code",
   "execution_count": 26,
   "metadata": {},
   "outputs": [
    {
     "data": {
      "text/html": [
       "<div>\n",
       "<style scoped>\n",
       "    .dataframe tbody tr th:only-of-type {\n",
       "        vertical-align: middle;\n",
       "    }\n",
       "\n",
       "    .dataframe tbody tr th {\n",
       "        vertical-align: top;\n",
       "    }\n",
       "\n",
       "    .dataframe thead th {\n",
       "        text-align: right;\n",
       "    }\n",
       "</style>\n",
       "<table border=\"1\" class=\"dataframe\">\n",
       "  <thead>\n",
       "    <tr style=\"text-align: right;\">\n",
       "      <th></th>\n",
       "      <th>org_index</th>\n",
       "      <th>label</th>\n",
       "      <th>device</th>\n",
       "      <th>devID</th>\n",
       "    </tr>\n",
       "  </thead>\n",
       "  <tbody>\n",
       "    <tr>\n",
       "      <th>0</th>\n",
       "      <td>0</td>\n",
       "      <td>Biking</td>\n",
       "      <td>vivosport</td>\n",
       "      <td>2623</td>\n",
       "    </tr>\n",
       "    <tr>\n",
       "      <th>1</th>\n",
       "      <td>1</td>\n",
       "      <td>R-Skiing</td>\n",
       "      <td>Garmin Forerunner 920XT</td>\n",
       "      <td>1765</td>\n",
       "    </tr>\n",
       "    <tr>\n",
       "      <th>2</th>\n",
       "      <td>7</td>\n",
       "      <td>Biking</td>\n",
       "      <td>Garmin Forerunner 920XT</td>\n",
       "      <td>1765</td>\n",
       "    </tr>\n",
       "    <tr>\n",
       "      <th>3</th>\n",
       "      <td>9</td>\n",
       "      <td>R-Skiing</td>\n",
       "      <td>Garmin Forerunner 920XT</td>\n",
       "      <td>1765</td>\n",
       "    </tr>\n",
       "    <tr>\n",
       "      <th>4</th>\n",
       "      <td>10</td>\n",
       "      <td>Biking</td>\n",
       "      <td>Garmin Forerunner 920XT</td>\n",
       "      <td>1765</td>\n",
       "    </tr>\n",
       "    <tr>\n",
       "      <th>...</th>\n",
       "      <td>...</td>\n",
       "      <td>...</td>\n",
       "      <td>...</td>\n",
       "      <td>...</td>\n",
       "    </tr>\n",
       "    <tr>\n",
       "      <th>223</th>\n",
       "      <td>275</td>\n",
       "      <td>Running</td>\n",
       "      <td>Garmin Forerunner 920XT</td>\n",
       "      <td>1765</td>\n",
       "    </tr>\n",
       "    <tr>\n",
       "      <th>224</th>\n",
       "      <td>276</td>\n",
       "      <td>Running</td>\n",
       "      <td>Garmin Forerunner 920XT</td>\n",
       "      <td>1765</td>\n",
       "    </tr>\n",
       "    <tr>\n",
       "      <th>225</th>\n",
       "      <td>277</td>\n",
       "      <td>Running</td>\n",
       "      <td>Garmin Forerunner 920XT</td>\n",
       "      <td>1765</td>\n",
       "    </tr>\n",
       "    <tr>\n",
       "      <th>226</th>\n",
       "      <td>278</td>\n",
       "      <td>Running</td>\n",
       "      <td>Garmin Forerunner 920XT</td>\n",
       "      <td>1765</td>\n",
       "    </tr>\n",
       "    <tr>\n",
       "      <th>227</th>\n",
       "      <td>279</td>\n",
       "      <td>Running</td>\n",
       "      <td>Garmin Forerunner 920XT</td>\n",
       "      <td>1765</td>\n",
       "    </tr>\n",
       "  </tbody>\n",
       "</table>\n",
       "<p>228 rows × 4 columns</p>\n",
       "</div>"
      ],
      "text/plain": [
       "     org_index     label                   device  devID\n",
       "0            0    Biking                vivosport   2623\n",
       "1            1  R-Skiing  Garmin Forerunner 920XT   1765\n",
       "2            7    Biking  Garmin Forerunner 920XT   1765\n",
       "3            9  R-Skiing  Garmin Forerunner 920XT   1765\n",
       "4           10    Biking  Garmin Forerunner 920XT   1765\n",
       "..         ...       ...                      ...    ...\n",
       "223        275   Running  Garmin Forerunner 920XT   1765\n",
       "224        276   Running  Garmin Forerunner 920XT   1765\n",
       "225        277   Running  Garmin Forerunner 920XT   1765\n",
       "226        278   Running  Garmin Forerunner 920XT   1765\n",
       "227        279   Running  Garmin Forerunner 920XT   1765\n",
       "\n",
       "[228 rows x 4 columns]"
      ]
     },
     "execution_count": 26,
     "metadata": {},
     "output_type": "execute_result"
    }
   ],
   "source": [
    "INDEX_DATA"
   ]
  },
  {
   "attachments": {},
   "cell_type": "markdown",
   "metadata": {},
   "source": [
    "#### Transform data"
   ]
  },
  {
   "cell_type": "code",
   "execution_count": 27,
   "metadata": {},
   "outputs": [],
   "source": [
    "import numpy as np"
   ]
  },
  {
   "cell_type": "code",
   "execution_count": 28,
   "metadata": {},
   "outputs": [],
   "source": [
    "hr_list = np.array([seq.T[0] for seq in SEQ_SEGMENTED])\n",
    "spd_list = np.array([seq.T[1] for seq in SEQ_SEGMENTED])\n",
    "alt_list = np.array([seq.T[2] for seq in SEQ_SEGMENTED])\n",
    "\n",
    "hr_std = (hr_list - hr_list.mean())/(hr_list.std())\n",
    "spd_std = (spd_list - spd_list.mean())/(spd_list.std())\n",
    "alt_std = (alt_list - alt_list.mean())/(alt_list.std())"
   ]
  },
  {
   "cell_type": "code",
   "execution_count": 29,
   "metadata": {},
   "outputs": [
    {
     "data": {
      "text/plain": [
       "(1140, 69)"
      ]
     },
     "execution_count": 29,
     "metadata": {},
     "output_type": "execute_result"
    }
   ],
   "source": [
    "hr_std.shape"
   ]
  },
  {
   "cell_type": "code",
   "execution_count": 31,
   "metadata": {},
   "outputs": [],
   "source": [
    "pd.DataFrame(hr_std).to_csv('DATA/HR-DATA_std_1160x69.csv', index=False)\n",
    "pd.DataFrame(spd_std).to_csv('DATA/SPD-DATA_std_1160x69.csv', index=False)\n",
    "pd.DataFrame(alt_std).to_csv('DATA/ALT-DATA_std_1160x69.csv', index=False)\n",
    "pd.DataFrame(SEQ_SEGMENTED_LABELS).to_csv('DATA/META-DATA_1160x1.csv', index=False)"
   ]
  }
 ],
 "metadata": {
  "kernelspec": {
   "display_name": "mts",
   "language": "python",
   "name": "python3"
  },
  "language_info": {
   "codemirror_mode": {
    "name": "ipython",
    "version": 3
   },
   "file_extension": ".py",
   "mimetype": "text/x-python",
   "name": "python",
   "nbconvert_exporter": "python",
   "pygments_lexer": "ipython3",
   "version": "3.8.16"
  },
  "orig_nbformat": 4
 },
 "nbformat": 4,
 "nbformat_minor": 2
}
